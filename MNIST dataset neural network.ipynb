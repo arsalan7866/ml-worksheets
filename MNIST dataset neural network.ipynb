{
  "nbformat": 4,
  "nbformat_minor": 0,
  "metadata": {
    "colab": {
      "name": "FC.ipynb",
      "provenance": [],
      "collapsed_sections": []
    },
    "kernelspec": {
      "name": "python3",
      "display_name": "Python 3"
    }
  },
  "cells": [
    {
      "cell_type": "markdown",
      "metadata": {
        "id": "SpSnhz6KwAR2",
        "colab_type": "text"
      },
      "source": [
        "Keras is a powerful and easy-to-use Python library for developing and evaluating deep learning models. It wraps the efficient numerical computation libraries Theano, CNTK and TensorFlow and allows you to define and train neural network models in a few short lines of code. In this tutorial you will discover how to create your first neural network model in Python using Keras. After completing this lesson you will know:\n",
        "\n",
        "\n",
        "*   How to load a dataset for use with Keras.\n",
        "*   How to define and compile a Multilayer Perceptron model in Keras.\n",
        "*   How to evaluate a Keras model on a validation dataset.\n",
        "\n"
      ]
    },
    {
      "cell_type": "markdown",
      "metadata": {
        "id": "T6sPb6S9wTew",
        "colab_type": "text"
      },
      "source": [
        "# Load Libraries"
      ]
    },
    {
      "cell_type": "markdown",
      "metadata": {
        "id": "xZw7VarZwd-G",
        "colab_type": "text"
      },
      "source": [
        "First step is to load the required libraries."
      ]
    },
    {
      "cell_type": "code",
      "metadata": {
        "id": "xWwF5yAuw2Xx",
        "colab_type": "code",
        "colab": {}
      },
      "source": [
        "import numpy \n",
        "\n",
        "import matplotlib.pyplot as plt\n",
        "\n",
        "from keras.models import Sequential\n",
        "\n",
        "from keras.layers import Dense\n",
        "\n",
        "from keras.utils import np_utils\n",
        "\n",
        "from keras.datasets import mnist"
      ],
      "execution_count": 12,
      "outputs": []
    },
    {
      "cell_type": "code",
      "metadata": {
        "id": "Sh_-gB70M10U",
        "colab_type": "code",
        "colab": {}
      },
      "source": [
        ""
      ],
      "execution_count": 12,
      "outputs": []
    },
    {
      "cell_type": "markdown",
      "metadata": {
        "id": "578Oi4Mgw9hr",
        "colab_type": "text"
      },
      "source": [
        "# Load Dataset in Numpy Format"
      ]
    },
    {
      "cell_type": "markdown",
      "metadata": {
        "id": "dxW0gFlxxAK9",
        "colab_type": "text"
      },
      "source": [
        "MNIST is a simple computer vision dataset. It consists of images of handwritten digits. It also includes labels for each image, telling us which digit it is.\n",
        "\n",
        "The MNIST data is split into three parts: $60,000$ data points of training data, and $10,000$ points of test data. Each image is 28 pixels by 28 pixels."
      ]
    },
    {
      "cell_type": "code",
      "metadata": {
        "id": "A9nKAP49x0GI",
        "colab_type": "code",
        "colab": {}
      },
      "source": [
        "(X_train, y_train), (X_test, y_test) = mnist.load_data()"
      ],
      "execution_count": 13,
      "outputs": []
    },
    {
      "cell_type": "code",
      "metadata": {
        "id": "d4JngwOmyDpP",
        "colab_type": "code",
        "colab": {
          "base_uri": "https://localhost:8080/",
          "height": 36
        },
        "outputId": "a72a8ab3-6051-45dd-8529-7ab2d03d5e7a"
      },
      "source": [
        "X_train.shape"
      ],
      "execution_count": 14,
      "outputs": [
        {
          "output_type": "execute_result",
          "data": {
            "text/plain": [
              "(60000, 28, 28)"
            ]
          },
          "metadata": {
            "tags": []
          },
          "execution_count": 14
        }
      ]
    },
    {
      "cell_type": "code",
      "metadata": {
        "id": "NParITruySsa",
        "colab_type": "code",
        "colab": {
          "base_uri": "https://localhost:8080/",
          "height": 36
        },
        "outputId": "007f7db2-954a-4750-c376-862d44c6f20e"
      },
      "source": [
        "y_train.shape"
      ],
      "execution_count": 15,
      "outputs": [
        {
          "output_type": "execute_result",
          "data": {
            "text/plain": [
              "(60000,)"
            ]
          },
          "metadata": {
            "tags": []
          },
          "execution_count": 15
        }
      ]
    },
    {
      "cell_type": "code",
      "metadata": {
        "id": "G9qDBv-5yY3o",
        "colab_type": "code",
        "colab": {
          "base_uri": "https://localhost:8080/",
          "height": 36
        },
        "outputId": "dc261b0d-14c6-48aa-f1de-95ad05733cf6"
      },
      "source": [
        "X_test.shape"
      ],
      "execution_count": 16,
      "outputs": [
        {
          "output_type": "execute_result",
          "data": {
            "text/plain": [
              "(10000, 28, 28)"
            ]
          },
          "metadata": {
            "tags": []
          },
          "execution_count": 16
        }
      ]
    },
    {
      "cell_type": "code",
      "metadata": {
        "id": "QT_EfqFVydlx",
        "colab_type": "code",
        "colab": {
          "base_uri": "https://localhost:8080/",
          "height": 36
        },
        "outputId": "a8fff0e3-8dbb-48d1-c468-6e4d0e1144e9"
      },
      "source": [
        "y_test.shape"
      ],
      "execution_count": 17,
      "outputs": [
        {
          "output_type": "execute_result",
          "data": {
            "text/plain": [
              "(10000,)"
            ]
          },
          "metadata": {
            "tags": []
          },
          "execution_count": 17
        }
      ]
    },
    {
      "cell_type": "code",
      "metadata": {
        "id": "nZllUnvJyiQ7",
        "colab_type": "code",
        "colab": {
          "base_uri": "https://localhost:8080/",
          "height": 268
        },
        "outputId": "f14e9050-f966-4457-f9db-0ce1dec42b85"
      },
      "source": [
        "uv# plot 4 images as gray scale\n",
        "plt.subplot(221)\n",
        "plt.imshow(X_train[0], cmap=plt.get_cmap('gray'))\n",
        "plt.subplot(222)\n",
        "plt.imshow(X_train[1], cmap=plt.get_cmap('gray'))\n",
        "plt.subplot(223)\n",
        "plt.imshow(X_train[2], cmap=plt.get_cmap('gray'))\n",
        "plt.subplot(224)\n",
        "plt.imshow(X_train[3], cmap=plt.get_cmap('gray'))\n",
        "# show the plot\n",
        "plt.show()"
      ],
      "execution_count": 18,
      "outputs": [
        {
          "output_type": "display_data",
          "data": {
            "image/png": "[encoded data removed]",
            "text/plain": [
              "<Figure size 432x288 with 4 Axes>"
            ]
          },
          "metadata": {
            "tags": [],
            "needs_background": "light"
          }
        }
      ]
    },
    {
      "cell_type": "markdown",
      "metadata": {
        "id": "0C1TncQhzapf",
        "colab_type": "text"
      },
      "source": [
        "# Formatting Data and Labels for Keras"
      ]
    },
    {
      "cell_type": "markdown",
      "metadata": {
        "id": "YuUHfffMzcnG",
        "colab_type": "text"
      },
      "source": [
        "We can flatten this array into a vector of $28\\times28 = 784$ numbers. It doesn't matter how we flatten the array, as long as we're consistent between images. From this perspective, the MNIST images are just a bunch of points in a 784-dimensional vector space. The data should always be of the format (Number of data points, data point dimension). In this case the training data will be of format $60,000\\times784$."
      ]
    },
    {
      "cell_type": "code",
      "metadata": {
        "id": "WUAPRSm5zj0q",
        "colab_type": "code",
        "colab": {}
      },
      "source": [
        "num_pixels = X_train.shape[1] * X_train.shape[2]\n",
        "\n",
        "X_train = X_train.reshape(X_train.shape[0], num_pixels).astype('float32')\n",
        "\n",
        "X_test = X_test.reshape(X_test.shape[0], num_pixels).astype('float32')\n",
        "\n",
        "X_train = X_train / 255\n",
        "\n",
        "X_test = X_test / 255\n",
        "\n",
        "y_train = np_utils.to_categorical(y_train)\n",
        "\n",
        "y_test = np_utils.to_categorical(y_test)\n",
        "\n",
        "num_classes = y_test.shape[1]"
      ],
      "execution_count": 19,
      "outputs": []
    },
    {
      "cell_type": "code",
      "metadata": {
        "id": "3Qa_Wz5Bzu_x",
        "colab_type": "code",
        "colab": {
          "base_uri": "https://localhost:8080/",
          "height": 36
        },
        "outputId": "5d0ac651-e863-4e8b-dfd1-b3ceb9108e6f"
      },
      "source": [
        "X_train.shape"
      ],
      "execution_count": 20,
      "outputs": [
        {
          "output_type": "execute_result",
          "data": {
            "text/plain": [
              "(60000, 784)"
            ]
          },
          "metadata": {
            "tags": []
          },
          "execution_count": 20
        }
      ]
    },
    {
      "cell_type": "code",
      "metadata": {
        "id": "tKMkULioz0BC",
        "colab_type": "code",
        "colab": {
          "base_uri": "https://localhost:8080/",
          "height": 36
        },
        "outputId": "95bccd30-7e6f-4192-bb67-6dde7605baeb"
      },
      "source": [
        "X_test.shape"
      ],
      "execution_count": 21,
      "outputs": [
        {
          "output_type": "execute_result",
          "data": {
            "text/plain": [
              "(10000, 784)"
            ]
          },
          "metadata": {
            "tags": []
          },
          "execution_count": 21
        }
      ]
    },
    {
      "cell_type": "code",
      "metadata": {
        "id": "gjXdMAgQz3Yk",
        "colab_type": "code",
        "colab": {
          "base_uri": "https://localhost:8080/",
          "height": 36
        },
        "outputId": "325a4036-7683-4e38-a607-3c20635f4986"
      },
      "source": [
        "y_train.shape"
      ],
      "execution_count": 22,
      "outputs": [
        {
          "output_type": "execute_result",
          "data": {
            "text/plain": [
              "(60000, 10)"
            ]
          },
          "metadata": {
            "tags": []
          },
          "execution_count": 22
        }
      ]
    },
    {
      "cell_type": "code",
      "metadata": {
        "id": "YwG7OnE5z5av",
        "colab_type": "code",
        "colab": {
          "base_uri": "https://localhost:8080/",
          "height": 36
        },
        "outputId": "03807cc7-9cb2-4643-f6cb-24cb573df39c"
      },
      "source": [
        "y_test.shape"
      ],
      "execution_count": 23,
      "outputs": [
        {
          "output_type": "execute_result",
          "data": {
            "text/plain": [
              "(10000, 10)"
            ]
          },
          "metadata": {
            "tags": []
          },
          "execution_count": 23
        }
      ]
    },
    {
      "cell_type": "markdown",
      "metadata": {
        "id": "VUZqC-Mf0F4a",
        "colab_type": "text"
      },
      "source": [
        "# Defining a single layer neural network model"
      ]
    },
    {
      "cell_type": "markdown",
      "metadata": {
        "id": "S5-Tn0K30Hyq",
        "colab_type": "text"
      },
      "source": [
        "Here we will define a single layer neural network. It will have a input layer of $784$ neurons, i.e. the input dimension and output layer of $10$ neurons, i.e. number of classes. The activation function used will be softmax activation."
      ]
    },
    {
      "cell_type": "code",
      "metadata": {
        "id": "IlB928RI0LWk",
        "colab_type": "code",
        "colab": {}
      },
      "source": [
        "# create model\n",
        "\n",
        "model = Sequential()\n",
        "\n",
        "model.add(Dense(num_classes, input_dim=num_pixels, activation='softmax'))\n"
      ],
      "execution_count": 24,
      "outputs": []
    },
    {
      "cell_type": "markdown",
      "metadata": {
        "id": "0woBCP1C0TV-",
        "colab_type": "text"
      },
      "source": [
        "# Compiling the model"
      ]
    },
    {
      "cell_type": "markdown",
      "metadata": {
        "id": "4aSmUA3-0WIJ",
        "colab_type": "text"
      },
      "source": [
        "Once the model is defined, we have to compile it. While compiling we provide the loss function to be used, the optimizer and any metric. Here we will use crossentropy loss with Adam optimizer and accuracy as a metric."
      ]
    },
    {
      "cell_type": "code",
      "metadata": {
        "id": "c8n--FDX0YjB",
        "colab_type": "code",
        "colab": {}
      },
      "source": [
        "# Compile model\n",
        "\n",
        "model.compile(loss='categorical_crossentropy', optimizer='adam', metrics=['accuracy'])\n"
      ],
      "execution_count": 25,
      "outputs": []
    },
    {
      "cell_type": "markdown",
      "metadata": {
        "id": "xq5f_ROP0ieD",
        "colab_type": "text"
      },
      "source": [
        "# Training/Fitting the model"
      ]
    },
    {
      "cell_type": "markdown",
      "metadata": {
        "id": "V3gWi2g40kSf",
        "colab_type": "text"
      },
      "source": [
        "Now the model is ready to be trained. We will provide training data to the network. Also we will specify the validation data, over which the model will only be validated."
      ]
    },
    {
      "cell_type": "code",
      "metadata": {
        "id": "xsJq43ok0mlT",
        "colab_type": "code",
        "colab": {
          "base_uri": "https://localhost:8080/",
          "height": 421
        },
        "outputId": "a08871e8-f646-4398-fdcc-fa2b7199cafa"
      },
      "source": [
        "# Training model\n",
        "\n",
        "\n",
        "history = model.fit(X_train, y_train, validation_data=(X_test, y_test), epochs=10, batch_size=200)\n"
      ],
      "execution_count": 26,
      "outputs": [
        {
          "output_type": "stream",
          "text": [
            "Train on 60000 samples, validate on 10000 samples\n",
            "Epoch 1/10\n",
            "60000/60000 [==============================] - 1s 15us/step - loss: 0.7725 - accuracy: 0.8141 - val_loss: 0.4324 - val_accuracy: 0.8931\n",
            "Epoch 2/10\n",
            "60000/60000 [==============================] - 1s 11us/step - loss: 0.3984 - accuracy: 0.8950 - val_loss: 0.3450 - val_accuracy: 0.9083\n",
            "Epoch 3/10\n",
            "60000/60000 [==============================] - 1s 11us/step - loss: 0.3428 - accuracy: 0.9064 - val_loss: 0.3142 - val_accuracy: 0.9148\n",
            "Epoch 4/10\n",
            "60000/60000 [==============================] - 1s 11us/step - loss: 0.3171 - accuracy: 0.9130 - val_loss: 0.2995 - val_accuracy: 0.9158\n",
            "Epoch 5/10\n",
            "60000/60000 [==============================] - 1s 11us/step - loss: 0.3019 - accuracy: 0.9161 - val_loss: 0.2873 - val_accuracy: 0.9203\n",
            "Epoch 6/10\n",
            "60000/60000 [==============================] - 1s 11us/step - loss: 0.2916 - accuracy: 0.9188 - val_loss: 0.2806 - val_accuracy: 0.9219\n",
            "Epoch 7/10\n",
            "60000/60000 [==============================] - 1s 11us/step - loss: 0.2839 - accuracy: 0.9206 - val_loss: 0.2773 - val_accuracy: 0.9220\n",
            "Epoch 8/10\n",
            "60000/60000 [==============================] - 1s 11us/step - loss: 0.2781 - accuracy: 0.9229 - val_loss: 0.2736 - val_accuracy: 0.9229\n",
            "Epoch 9/10\n",
            "60000/60000 [==============================] - 1s 11us/step - loss: 0.2734 - accuracy: 0.9236 - val_loss: 0.2704 - val_accuracy: 0.9229\n",
            "Epoch 10/10\n",
            "60000/60000 [==============================] - 1s 11us/step - loss: 0.2696 - accuracy: 0.9251 - val_loss: 0.2704 - val_accuracy: 0.9226\n"
          ],
          "name": "stdout"
        }
      ]
    },
    {
      "cell_type": "code",
      "metadata": {
        "id": "-dChP1LLjofk",
        "colab_type": "code",
        "colab": {
          "base_uri": "https://localhost:8080/",
          "height": 295
        },
        "outputId": "d784693d-3cdd-402b-b15f-fbeab63a57ef"
      },
      "source": [
        "loss_train = history.history['loss']\n",
        "loss_val = history.history['val_loss']\n",
        "epochs = range(1,11)\n",
        "plt.plot(epochs, loss_train, 'g', label='Training loss')\n",
        "plt.plot(epochs, loss_val, 'b', label='validation loss')\n",
        "plt.title('Training and Validation loss')\n",
        "plt.xlabel('Epochs')\n",
        "plt.ylabel('Loss')\n",
        "plt.legend()\n",
        "plt.show()"
      ],
      "execution_count": 33,
      "outputs": [
        {
          "output_type": "display_data",
          "data": {
            "image/png": "[encoded data removed]",
            "text/plain": [
              "<Figure size 432x288 with 1 Axes>"
            ]
          },
          "metadata": {
            "tags": [],
            "needs_background": "light"
          }
        }
      ]
    },
    {
      "cell_type": "code",
      "metadata": {
        "id": "POYnZ9pup2QT",
        "colab_type": "code",
        "colab": {
          "base_uri": "https://localhost:8080/",
          "height": 295
        },
        "outputId": "ee2ce5f7-a590-4279-da63-9e556c8099b1"
      },
      "source": [
        "acc_train = history.history['accuracy']\n",
        "acc_val = history.history['val_accuracy']\n",
        "epochs = range(1,11)\n",
        "plt.plot(epochs, acc_train, 'g', label='Training loss')\n",
        "plt.plot(epochs, acc_val, 'b', label='validation loss')\n",
        "plt.title('Training and Validation accuracy difference')\n",
        "plt.xlabel('Epochs')\n",
        "plt.ylabel('diiference')\n",
        "plt.legend()\n",
        "plt.show()"
      ],
      "execution_count": 34,
      "outputs": [
        {
          "output_type": "display_data",
          "data": {
            "image/png": "[encoded data removed]",
            "text/plain": [
              "<Figure size 432x288 with 1 Axes>"
            ]
          },
          "metadata": {
            "tags": [],
            "needs_background": "light"
          }
        }
      ]
    },
    {
      "cell_type": "markdown",
      "metadata": {
        "id": "b4BjzfDW0w6v",
        "colab_type": "text"
      },
      "source": [
        "# Evaluating the model"
      ]
    },
    {
      "cell_type": "markdown",
      "metadata": {
        "id": "_0FdSOdT01df",
        "colab_type": "text"
      },
      "source": [
        "Finally we will evaluate the model on the testing dataset."
      ]
    },
    {
      "cell_type": "code",
      "metadata": {
        "id": "atp-I5qg04Ao",
        "colab_type": "code",
        "colab": {
          "base_uri": "https://localhost:8080/",
          "height": 56
        },
        "outputId": "bb3a7a89-a5b8-4459-e446-991b1e422be2"
      },
      "source": [
        "# Final evaluation of the model\n",
        "\n",
        "scores = model.evaluate(X_test, y_test)\n",
        "\n",
        "print(\"Baseline Error: %.2f%%\" % (100-scores[1]*100))\n",
        "\n",
        "plt.show()"
      ],
      "execution_count": 49,
      "outputs": [
        {
          "output_type": "stream",
          "text": [
            "10000/10000 [==============================] - 1s 60us/step\n",
            "Baseline Error: 2.41%\n"
          ],
          "name": "stdout"
        }
      ]
    },
    {
      "cell_type": "markdown",
      "metadata": {
        "id": "7Ux0ZGYe1Abb",
        "colab_type": "text"
      },
      "source": [
        "# Defining a multi-layer model"
      ]
    },
    {
      "cell_type": "markdown",
      "metadata": {
        "id": "N9zn7vqG1DUh",
        "colab_type": "text"
      },
      "source": [
        "Now we will define a multi layer neural network in which we will add $2$ hidden layers having $500$ and $100$ neurons."
      ]
    },
    {
      "cell_type": "code",
      "metadata": {
        "id": "NyWnrEko1D-4",
        "colab_type": "code",
        "colab": {}
      },
      "source": [
        "model = Sequential()\n",
        "\n",
        "model.add(Dense(500, input_dim=num_pixels, activation='relu'))\n",
        "\n",
        "model.add(Dense(100, activation='relu'))\n",
        "\n",
        "model.add(Dense(num_classes, activation='softmax'))\n"
      ],
      "execution_count": 45,
      "outputs": []
    },
    {
      "cell_type": "code",
      "metadata": {
        "id": "2OT0zQrT1FtF",
        "colab_type": "code",
        "colab": {
          "base_uri": "https://localhost:8080/",
          "height": 460
        },
        "outputId": "a630cef6-4eaa-4e46-ea28-28e79ca90744"
      },
      "source": [
        "# Compile model\n",
        "\n",
        "model.compile(loss='categorical_crossentropy', optimizer='adam', metrics=['accuracy'])\n",
        "\n",
        "# Training model\n",
        "\n",
        "history = model.fit(X_train, y_train, validation_data=(X_test, y_test), epochs=10, batch_size=200)\n",
        "\n",
        "# Final evaluation of the model\n",
        "\n",
        "scores = model.evaluate(X_test, y_test)\n",
        "\n",
        "print(\"Baseline Error: %.2f%%\" % (100-scores[1]*100))"
      ],
      "execution_count": 50,
      "outputs": [
        {
          "output_type": "stream",
          "text": [
            "Train on 60000 samples, validate on 10000 samples\n",
            "Epoch 1/10\n",
            "60000/60000 [==============================] - 4s 73us/step - loss: 0.0118 - accuracy: 0.9960 - val_loss: 0.0726 - val_accuracy: 0.9797\n",
            "Epoch 2/10\n",
            "60000/60000 [==============================] - 4s 72us/step - loss: 0.0122 - accuracy: 0.9961 - val_loss: 0.0863 - val_accuracy: 0.9786\n",
            "Epoch 3/10\n",
            "60000/60000 [==============================] - 4s 71us/step - loss: 0.0088 - accuracy: 0.9971 - val_loss: 0.0817 - val_accuracy: 0.9813\n",
            "Epoch 4/10\n",
            "60000/60000 [==============================] - 4s 70us/step - loss: 0.0064 - accuracy: 0.9980 - val_loss: 0.0868 - val_accuracy: 0.9801\n",
            "Epoch 5/10\n",
            "60000/60000 [==============================] - 4s 70us/step - loss: 0.0115 - accuracy: 0.9961 - val_loss: 0.0903 - val_accuracy: 0.9799\n",
            "Epoch 6/10\n",
            "60000/60000 [==============================] - 4s 71us/step - loss: 0.0061 - accuracy: 0.9979 - val_loss: 0.0852 - val_accuracy: 0.9799\n",
            "Epoch 7/10\n",
            "60000/60000 [==============================] - 4s 70us/step - loss: 0.0073 - accuracy: 0.9976 - val_loss: 0.0867 - val_accuracy: 0.9812\n",
            "Epoch 8/10\n",
            "60000/60000 [==============================] - 4s 71us/step - loss: 0.0046 - accuracy: 0.9985 - val_loss: 0.0886 - val_accuracy: 0.9806\n",
            "Epoch 9/10\n",
            "60000/60000 [==============================] - 4s 71us/step - loss: 0.0059 - accuracy: 0.9980 - val_loss: 0.0929 - val_accuracy: 0.9799\n",
            "Epoch 10/10\n",
            "60000/60000 [==============================] - 4s 72us/step - loss: 0.0070 - accuracy: 0.9975 - val_loss: 0.0923 - val_accuracy: 0.9796\n",
            "10000/10000 [==============================] - 1s 51us/step\n",
            "Baseline Error: 2.04%\n"
          ],
          "name": "stdout"
        }
      ]
    },
    {
      "cell_type": "code",
      "metadata": {
        "id": "GXWqw37F1QC1",
        "colab_type": "code",
        "colab": {
          "base_uri": "https://localhost:8080/",
          "height": 295
        },
        "outputId": "d612f426-2ec5-4053-b60d-c7107efc8146"
      },
      "source": [
        "loss_train = history.history['loss']\n",
        "loss_val = history.history['val_loss']\n",
        "epochs = range(1,11)\n",
        "plt.plot(epochs, loss_train, 'g', label='Training loss')\n",
        "plt.plot(epochs, loss_val, 'b', label='validation loss')\n",
        "plt.title('Training and Validation loss')\n",
        "plt.xlabel('Epochs')\n",
        "plt.ylabel('Loss')\n",
        "plt.legend()\n",
        "plt.show()"
      ],
      "execution_count": 51,
      "outputs": [
        {
          "output_type": "display_data",
          "data": {
            "image/png": "[encoded data removed]",
            "text/plain": [
              "<Figure size 432x288 with 1 Axes>"
            ]
          },
          "metadata": {
            "tags": [],
            "needs_background": "light"
          }
        }
      ]
    },
    {
      "cell_type": "code",
      "metadata": {
        "id": "-jRsHMvO3frA",
        "colab_type": "code",
        "colab": {
          "base_uri": "https://localhost:8080/",
          "height": 295
        },
        "outputId": "4f0c096e-960d-4446-ff6d-6c01d4209072"
      },
      "source": [
        "loss_train = history.history['accuracy']\n",
        "loss_val = history.history['val_accuracy']\n",
        "epochs = range(1,11)\n",
        "plt.plot(epochs, loss_train, 'g', label='Training')\n",
        "plt.plot(epochs, loss_val, 'b', label='validation')\n",
        "plt.title('Training and Validation loss')\n",
        "plt.xlabel('Epochs')\n",
        "plt.ylabel('Loss')\n",
        "plt.legend()\n",
        "plt.show()"
      ],
      "execution_count": 53,
      "outputs": [
        {
          "output_type": "display_data",
          "data": {
            "image/png": "[encoded data removed]",
            "text/plain": [
              "<Figure size 432x288 with 1 Axes>"
            ]
          },
          "metadata": {
            "tags": [],
            "needs_background": "light"
          }
        }
      ]
    }
  ]
}
